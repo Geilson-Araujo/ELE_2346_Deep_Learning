{
 "cells": [
  {
   "cell_type": "code",
   "execution_count": 1,
   "id": "ef2aac20-66ae-4288-924a-82ab828e4e7d",
   "metadata": {},
   "outputs": [],
   "source": [
    "import os\n",
    "import gc\n",
    "import random\n",
    "\n",
    "import numpy as np\n",
    "\n",
    "import rasterio\n",
    "\n",
    "import matplotlib.pyplot as plt\n",
    "import seaborn as sns\n",
    "\n",
    "from pathlib import Path\n",
    "from typing import Callable, Dict, Optional, Tuple\n",
    "\n",
    "import torch\n",
    "import torch.nn as nn\n",
    "import torch.optim as optim\n",
    "from torch.utils.data import DataLoader, Dataset\n",
    "from torch import Tensor\n",
    "\n",
    "from torchgeo.datasets import (RasterDataset, \n",
    "                               stack_samples, \n",
    "                               splits, \n",
    "                               random_bbox_splitting)\n",
    "\n",
    "from torchgeo.samplers import RandomGeoSampler, GridGeoSampler\n",
    "from torchgeo.trainers import SemanticSegmentationTask\n",
    "\n",
    "from torchinfo import summary\n",
    "from torchmetrics.classification import MulticlassF1Score, MulticlassJaccardIndex\n",
    "\n",
    "from skimage.util import view_as_windows\n",
    "\n",
    "import segmentation_models_pytorch as smp\n",
    "from segmentation_models_pytorch.losses import FocalLoss\n",
    "\n",
    "from pprint import pprint\n",
    "\n",
    "from tqdm.auto import tqdm, trange\n",
    "\n",
    "import warnings\n",
    "warnings.simplefilter('ignore')\n",
    "\n",
    "%config InlineBackend.figure_format = 'retina'"
   ]
  },
  {
   "cell_type": "code",
   "execution_count": 2,
   "id": "1023e6bc-1ce9-493f-98e6-f099be98c4e2",
   "metadata": {},
   "outputs": [],
   "source": [
    "config = {\n",
    "    'seed': 2024,\n",
    "    'batch_size': 128,\n",
    "    'epochs': 100,\n",
    "    'optimizer': 'Adam',\n",
    "    'learning_rate': 1e-3,\n",
    "    'num_classes': 3,    \n",
    "    'ignore_index': 2,\n",
    "    'in_channels': 4, \n",
    "    'model': 'DeepLabV3Plus',\n",
    "    'encoder_name': 'efficientnet-b0',\n",
    "    'trial': 1,\n",
    "    'size': (224, 224),\n",
    "    'length': 5_000,\n",
    "    'patience': 10,\n",
    "    'T_0': 10,\n",
    "    # 'gamma': 3.0,\n",
    "}"
   ]
  },
  {
   "cell_type": "code",
   "execution_count": 3,
   "id": "754a7927-e1ca-4fac-bac2-2912c3b60f17",
   "metadata": {},
   "outputs": [],
   "source": [
    "# https://pytorch.org/docs/stable/notes/randomness.html\n",
    "def seed_everything(seed: int) -> None:\n",
    "    random.seed(seed)\n",
    "    os.environ['PYTHONHASHSEED'] = str(seed)\n",
    "    os.environ['CUBLAS_WORKSPACE_CONFIG'] = ':4096:8'  # CUBLAS_WORKSPACE_CONFIG=:4096:8 or CUBLAS_WORKSPACE_CONFIG=:16:8\n",
    "    np.random.seed(seed)\n",
    "    torch.manual_seed(seed)\n",
    "    torch.cuda.manual_seed(seed)\n",
    "    # torch.use_deterministic_algorithms(mode=True)\n",
    "    torch.backends.cudnn.benchmark = True\n",
    "\n",
    "seed_everything(config['seed'])"
   ]
  },
  {
   "cell_type": "code",
   "execution_count": 4,
   "id": "76fc1050-a58e-4b97-90b5-01266bcc141c",
   "metadata": {},
   "outputs": [
    {
     "data": {
      "text/plain": [
       "device(type='cuda')"
      ]
     },
     "execution_count": 4,
     "metadata": {},
     "output_type": "execute_result"
    }
   ],
   "source": [
    "device = torch.device('cuda' if torch.cuda.is_available() else 'cpu')\n",
    "device"
   ]
  },
  {
   "cell_type": "markdown",
   "id": "dd89d308-3805-44e9-9627-a5f73648b7fe",
   "metadata": {},
   "source": [
    "### Loading data"
   ]
  },
  {
   "cell_type": "code",
   "execution_count": 5,
   "id": "07043e75-4add-4546-81ae-4d2c698c33b0",
   "metadata": {},
   "outputs": [],
   "source": [
    "def load_tif_image(patch: str) -> Tuple[np.array, list]:\n",
    "    with rasterio.open(patch, mode='r') as src:\n",
    "        arr = src.read()\n",
    "        img = np.moveaxis(arr, 0, -1)\n",
    "        profile = src.profile\n",
    "\n",
    "    return img, profile"
   ]
  },
  {
   "cell_type": "code",
   "execution_count": 7,
   "id": "d2158cef-fc2e-4839-b48d-5ecc93009e20",
   "metadata": {},
   "outputs": [],
   "source": [
    "class SARImages(RasterDataset):\n",
    "\n",
    "    filename_glob = '*.tif'\n",
    "    is_image = True\n",
    "    separate_files = False\n",
    "    all_bands = ['VV', 'VH']"
   ]
  },
  {
   "cell_type": "code",
   "execution_count": 8,
   "id": "c8682577-e263-4a84-b206-f429f97b09dd",
   "metadata": {},
   "outputs": [],
   "source": [
    "class SARLabels(RasterDataset):\n",
    "\n",
    "    filename_glob = '*.tif'\n",
    "    is_image = False\n",
    "    all_bands = [0]"
   ]
  },
  {
   "cell_type": "code",
   "execution_count": 9,
   "id": "7277b268-b367-45f2-b829-3bf4c8cf2562",
   "metadata": {},
   "outputs": [],
   "source": [
    "# Load SAR images\n",
    "img_2018 = SARImages('./data/18210.tif')\n",
    "img_2019 = SARImages('./data/19229.tif')\n",
    "img_2020 = SARImages('./data/20218.tif')\n",
    "\n",
    "# Load labels\n",
    "train_label = SARLabels('./data/label_2019.tif')\n",
    "test_label  = SARLabels('./data/label_2020.tif')"
   ]
  },
  {
   "cell_type": "code",
   "execution_count": 10,
   "id": "d5cbd972-610f-435a-821c-feb7774edf3a",
   "metadata": {},
   "outputs": [],
   "source": [
    "dataset  = img_2018 & img_2019 & train_label  # dimensions: [H, W, 5]\n",
    "test_data = img_2019 & img_2020 & test_label"
   ]
  },
  {
   "cell_type": "markdown",
   "id": "a6cc4af6-6d46-46ae-9a7c-fd31a097cdbd",
   "metadata": {},
   "source": [
    "### Preparing data to feed the model"
   ]
  },
  {
   "cell_type": "code",
   "execution_count": 11,
   "id": "976a3e28-9999-4781-b623-338589a6115d",
   "metadata": {},
   "outputs": [],
   "source": [
    "# Split data into 70 % for training and 20 % for validation\n",
    "generator = torch.Generator().manual_seed(config['seed'])\n",
    "train_data, valid_data, _ = random_bbox_splitting(dataset, fractions=[0.7, 0.2, 0.1], generator=generator)"
   ]
  },
  {
   "cell_type": "code",
   "execution_count": 12,
   "id": "5f46aeeb-7780-4ea5-938c-cc8687bed288",
   "metadata": {},
   "outputs": [],
   "source": [
    "# Prepare dataloaders\n",
    "train_sampler = RandomGeoSampler(train_data, size=config['size'], length=config['length'])\n",
    "trainloader = DataLoader(train_data, batch_size=config['batch_size'], sampler=train_sampler, collate_fn=stack_samples)\n",
    "\n",
    "valid_sampler = RandomGeoSampler(valid_data, size=config['size'], length=config['length'])\n",
    "validloader = DataLoader(valid_data, batch_size=config['batch_size'], sampler=valid_sampler, collate_fn=stack_samples)\n",
    "\n",
    "test_sampler = GridGeoSampler(test_data, size=config['size'], stride=config['size'])\n",
    "testloader = DataLoader(test_data, batch_size=config['batch_size'], sampler=test_sampler, collate_fn=stack_samples)"
   ]
  },
  {
   "cell_type": "code",
   "execution_count": 13,
   "id": "06803b82-97cb-4b31-8423-ba4532a3e6c1",
   "metadata": {},
   "outputs": [
    {
     "data": {
      "text/plain": [
       "(torch.Size([128, 4, 224, 224]), torch.Size([128, 1, 224, 224]))"
      ]
     },
     "execution_count": 13,
     "metadata": {},
     "output_type": "execute_result"
    }
   ],
   "source": [
    "# Sanity check\n",
    "sample = next(iter(trainloader))\n",
    "\n",
    "sample['image'].shape, sample['mask'].shape"
   ]
  },
  {
   "cell_type": "markdown",
   "id": "52defd91-ac46-4299-bdd5-1f3e434ad996",
   "metadata": {},
   "source": [
    "### Model architecture"
   ]
  },
  {
   "cell_type": "code",
   "execution_count": 14,
   "id": "ca7bfbf4-2a0e-4f89-bd7b-9189912dd20e",
   "metadata": {},
   "outputs": [],
   "source": [
    "model = getattr(smp, config['model'])(\n",
    "    encoder_name=config['encoder_name'],    \n",
    "    encoder_weights='imagenet',             \n",
    "    in_channels=config['in_channels'],\n",
    "    classes=config['num_classes'],          \n",
    ")"
   ]
  },
  {
   "cell_type": "code",
   "execution_count": 15,
   "id": "3b255f8b-e8e8-4839-bd5d-8e966cf6f5ed",
   "metadata": {},
   "outputs": [
    {
     "name": "stdout",
     "output_type": "stream",
     "text": [
      "==================================================================================================================================\n",
      "Layer (type:depth-idx)                                  Input Shape               Param #                   Trainable\n",
      "==================================================================================================================================\n",
      "DeepLabV3Plus                                           [128, 4, 224, 224]        --                        True\n",
      "├─EfficientNetEncoder: 1-1                              [128, 4, 224, 224]        412,160                   True\n",
      "│    └─Conv2dStaticSamePadding: 2-1                     [128, 4, 224, 224]        1,152                     True\n",
      "│    │    └─ZeroPad2d: 3-1                              [128, 4, 224, 224]        --                        --\n",
      "│    └─BatchNorm2d: 2-2                                 [128, 32, 112, 112]       64                        True\n",
      "│    └─MemoryEfficientSwish: 2-3                        [128, 32, 112, 112]       --                        --\n",
      "│    └─ModuleList: 2-4                                  --                        --                        True\n",
      "│    │    └─MBConvBlock: 3-2                            [128, 32, 112, 112]       1,448                     True\n",
      "│    │    └─MBConvBlock: 3-3                            [128, 16, 112, 112]       6,004                     True\n",
      "│    │    └─MBConvBlock: 3-4                            [128, 24, 56, 56]         10,710                    True\n",
      "│    │    └─MBConvBlock: 3-5                            [128, 24, 56, 56]         15,350                    True\n",
      "│    │    └─MBConvBlock: 3-6                            [128, 40, 28, 28]         31,290                    True\n",
      "│    │    └─MBConvBlock: 3-7                            [128, 40, 28, 28]         37,130                    True\n",
      "│    │    └─MBConvBlock: 3-8                            [128, 80, 14, 14]         102,900                   True\n",
      "│    │    └─MBConvBlock: 3-9                            [128, 80, 14, 14]         102,900                   True\n",
      "│    │    └─MBConvBlock: 3-10                           [128, 80, 14, 14]         126,004                   True\n",
      "│    │    └─MBConvBlock: 3-11                           [128, 112, 14, 14]        208,572                   True\n",
      "│    │    └─MBConvBlock: 3-12                           [128, 112, 14, 14]        208,572                   True\n",
      "│    │    └─MBConvBlock: 3-13                           [128, 112, 14, 14]        262,492                   True\n",
      "│    │    └─MBConvBlock: 3-14                           [128, 192, 14, 14]        587,952                   True\n",
      "│    │    └─MBConvBlock: 3-15                           [128, 192, 14, 14]        587,952                   True\n",
      "│    │    └─MBConvBlock: 3-16                           [128, 192, 14, 14]        587,952                   True\n",
      "│    │    └─MBConvBlock: 3-17                           [128, 192, 14, 14]        717,232                   True\n",
      "├─DeepLabV3PlusDecoder: 1-2                             [128, 4, 224, 224]        --                        True\n",
      "│    └─Sequential: 2-5                                  [128, 320, 14, 14]        --                        True\n",
      "│    │    └─ASPP: 3-18                                  [128, 320, 14, 14]        748,992                   True\n",
      "│    │    └─SeparableConv2d: 3-19                       [128, 256, 14, 14]        67,840                    True\n",
      "│    │    └─BatchNorm2d: 3-20                           [128, 256, 14, 14]        512                       True\n",
      "│    │    └─ReLU: 3-21                                  [128, 256, 14, 14]        --                        --\n",
      "│    └─UpsamplingBilinear2d: 2-6                        [128, 256, 14, 14]        --                        --\n",
      "│    └─Sequential: 2-7                                  [128, 24, 56, 56]         --                        True\n",
      "│    │    └─Conv2d: 3-22                                [128, 24, 56, 56]         1,152                     True\n",
      "│    │    └─BatchNorm2d: 3-23                           [128, 48, 56, 56]         96                        True\n",
      "│    │    └─ReLU: 3-24                                  [128, 48, 56, 56]         --                        --\n",
      "│    └─Sequential: 2-8                                  [128, 304, 56, 56]        --                        True\n",
      "│    │    └─SeparableConv2d: 3-25                       [128, 304, 56, 56]        80,560                    True\n",
      "│    │    └─BatchNorm2d: 3-26                           [128, 256, 56, 56]        512                       True\n",
      "│    │    └─ReLU: 3-27                                  [128, 256, 56, 56]        --                        --\n",
      "├─SegmentationHead: 1-3                                 [128, 256, 56, 56]        --                        True\n",
      "│    └─Conv2d: 2-9                                      [128, 256, 56, 56]        771                       True\n",
      "│    └─UpsamplingBilinear2d: 2-10                       [128, 3, 56, 56]          --                        --\n",
      "│    └─Activation: 2-11                                 [128, 3, 224, 224]        --                        --\n",
      "│    │    └─Identity: 3-28                              [128, 3, 224, 224]        --                        --\n",
      "==================================================================================================================================\n",
      "Total params: 4,908,271\n",
      "Trainable params: 4,908,271\n",
      "Non-trainable params: 0\n",
      "Total mult-adds (G): 51.49\n",
      "==================================================================================================================================\n",
      "Input size (MB): 102.76\n",
      "Forward/backward pass size (MB): 12286.82\n",
      "Params size (MB): 3.76\n",
      "Estimated Total Size (MB): 12393.34\n",
      "==================================================================================================================================\n"
     ]
    }
   ],
   "source": [
    "print(summary(model, \n",
    "              (config['batch_size'], 4, 224, 224),\n",
    "              col_names=['input_size', 'num_params', 'trainable'],\n",
    "              device='cpu'))"
   ]
  },
  {
   "cell_type": "code",
   "execution_count": 16,
   "id": "f42c9a43-7b0f-4ec5-adf1-dc9531e8acc0",
   "metadata": {},
   "outputs": [],
   "source": [
    "def train_fn(model, dataloader, optimizer, criterion, epoch):\n",
    "\n",
    "    scaler = torch.cuda.amp.GradScaler()       # deal with out of memory    \n",
    "    \n",
    "    model.train()\n",
    "    \n",
    "    metric = MulticlassF1Score(num_classes=config['num_classes'], \n",
    "                               average='macro',\n",
    "                               ignore_index=config['ignore_index']).to(device=device)\n",
    "    \n",
    "    running_loss = 0.0  \n",
    "    for ii, sample in enumerate(tqdm(dataloader, leave=False)):\n",
    "        images = sample['image'].to(device)\n",
    "        labels = sample['mask'].squeeze().to(device)\n",
    "\n",
    "        \n",
    "        optimizer.zero_grad(set_to_none=True)  # set gradients to zero\n",
    "        \n",
    "        # Forward pass\n",
    "        with torch.cuda.amp.autocast():        # autocasting\n",
    "            outputs = model(images)\n",
    "            loss = criterion(outputs, labels)\n",
    "        \n",
    "        # Backward pass\n",
    "        scaler.scale(loss).backward() \n",
    "        scaler.step(optimizer)\n",
    "        scaler.update()\n",
    "\n",
    "        # Set up scheduler\n",
    "        scheduler.step(epoch + ii / len(dataloader))\n",
    "        \n",
    "        # Compute metrics\n",
    "        running_loss += loss.item()\n",
    "        metric.update(outputs, labels)\n",
    "        \n",
    "        # Release memory\n",
    "        torch.cuda.empty_cache()\n",
    "        _ = gc.collect()\n",
    "        \n",
    "    f1_macro = metric.compute()\n",
    "    metric.reset()\n",
    "    \n",
    "    return running_loss / len(dataloader), f1_macro"
   ]
  },
  {
   "cell_type": "code",
   "execution_count": 17,
   "id": "96b3acaf-70c4-4da8-94f5-4127f0b12b6c",
   "metadata": {},
   "outputs": [],
   "source": [
    "@torch.no_grad()\n",
    "def valid_fn(model, dataloader, criterion):\n",
    "    \n",
    "    model.eval() \n",
    "    \n",
    "    metric = MulticlassF1Score(num_classes=config['num_classes'], \n",
    "                               average='macro',\n",
    "                               ignore_index=config['ignore_index']).to(device=device)\n",
    "    \n",
    "    running_loss = 0.0\n",
    "\n",
    "    for sample in tqdm(dataloader, leave=False):\n",
    "        images = sample['image'].to(device)\n",
    "        labels = sample['mask'].squeeze().to(device)\n",
    "        \n",
    "        with torch.cuda.amp.autocast():  # autocasting\n",
    "            outputs = model(images)\n",
    "            loss = criterion(outputs, labels)\n",
    "\n",
    "        # Compute metrics\n",
    "        running_loss += loss.item()\n",
    "        metric.update(outputs, labels)\n",
    "        \n",
    "        # Release memory\n",
    "        torch.cuda.empty_cache()\n",
    "        _ = gc.collect()\n",
    "    \n",
    "    f1_macro = metric.compute()\n",
    "    metric.reset()\n",
    "\n",
    "    return running_loss / len(dataloader), f1_macro"
   ]
  },
  {
   "cell_type": "code",
   "execution_count": 18,
   "id": "16852fce-6949-4399-9811-40e39d53cc56",
   "metadata": {},
   "outputs": [],
   "source": [
    "class EarlyStopping:\n",
    "    \"\"\"Early stops the training if validation loss doesn't improve after a given patience.\"\"\"\n",
    "    def __init__(self, patience=7, verbose=False, delta=0, path='checkpoint.pt', trace_func=print):\n",
    "        \"\"\"\n",
    "        Args:\n",
    "            patience (int): How long to wait after last time validation loss improved.\n",
    "                            Default: 7\n",
    "            verbose (bool): If True, prints a message for each validation loss improvement.\n",
    "                            Default: False\n",
    "            delta (float): Minimum change in the monitored quantity to qualify as an improvement.\n",
    "                            Default: 0\n",
    "            path (str): Path for the checkpoint to be saved to.\n",
    "                            Default: 'checkpoint.pt'\n",
    "            trace_func (function): trace print function.\n",
    "                            Default: print\n",
    "        \"\"\"\n",
    "        self.patience = patience\n",
    "        self.verbose = verbose\n",
    "        self.counter = 0\n",
    "        self.best_score = None\n",
    "        self.early_stop = False\n",
    "        self.valid_loss_min = np.Inf\n",
    "        self.delta = delta\n",
    "        self.path = path\n",
    "        self.trace_func = trace_func\n",
    "    def __call__(self, valid_loss, model):\n",
    "\n",
    "        score = -valid_loss\n",
    "\n",
    "        if self.best_score is None:\n",
    "            self.best_score = score\n",
    "            self.save_checkpoint(valid_loss, model)\n",
    "        elif score < self.best_score + self.delta:\n",
    "            self.counter += 1\n",
    "            self.trace_func(f'EarlyStopping counter: {self.counter} out of {self.patience}')\n",
    "            if self.counter >= self.patience:\n",
    "                self.early_stop = True\n",
    "        else:\n",
    "            self.best_score = score\n",
    "            self.save_checkpoint(valid_loss, model)\n",
    "            self.counter = 0\n",
    "\n",
    "    def save_checkpoint(self, valid_loss, model):\n",
    "        '''Saves model when validation loss decrease.'''\n",
    "        if self.verbose:\n",
    "            self.trace_func(f'Validation loss decreased ({self.valid_loss_min:.6f} --> {valid_loss:.6f}).  Saving model ...')\n",
    "        torch.save(model.state_dict(), self.path)\n",
    "        self.valid_loss_min = valid_loss"
   ]
  },
  {
   "cell_type": "code",
   "execution_count": 19,
   "id": "53da8704-4546-4b22-8347-89ce3db22724",
   "metadata": {},
   "outputs": [],
   "source": [
    "model.to(device)\n",
    "\n",
    "criterion = nn.CrossEntropyLoss(ignore_index=config['ignore_index'])\n",
    "# criterion = FocalLoss(mode='multiclass', gamma=config['gamma'], ignore_index=config['ignore_index'])\n",
    "optimizer = getattr(optim, config['optimizer'])(model.parameters(), lr=config['learning_rate'])\n",
    "\n",
    "scheduler = optim.lr_scheduler.CosineAnnealingWarmRestarts(optimizer, T_0=config['T_0'])"
   ]
  },
  {
   "cell_type": "markdown",
   "id": "818e963e-98ca-4a48-8de3-8a9f7a81e747",
   "metadata": {},
   "source": [
    "### Training and evaluanting the model"
   ]
  },
  {
   "cell_type": "code",
   "execution_count": 20,
   "id": "6453eb7d-1581-40cc-95e6-9a1ba1e25463",
   "metadata": {},
   "outputs": [
    {
     "data": {
      "application/vnd.jupyter.widget-view+json": {
       "model_id": "26b3f4b6f04f4b68ae6e43c32197ecb6",
       "version_major": 2,
       "version_minor": 0
      },
      "text/plain": [
       "  0%|          | 0/100 [00:00<?, ?it/s]"
      ]
     },
     "metadata": {},
     "output_type": "display_data"
    },
    {
     "data": {
      "application/vnd.jupyter.widget-view+json": {
       "model_id": "",
       "version_major": 2,
       "version_minor": 0
      },
      "text/plain": [
       "  0%|          | 0/40 [00:00<?, ?it/s]"
      ]
     },
     "metadata": {},
     "output_type": "display_data"
    },
    {
     "data": {
      "application/vnd.jupyter.widget-view+json": {
       "model_id": "",
       "version_major": 2,
       "version_minor": 0
      },
      "text/plain": [
       "  0%|          | 0/40 [00:00<?, ?it/s]"
      ]
     },
     "metadata": {},
     "output_type": "display_data"
    },
    {
     "name": "stdout",
     "output_type": "stream",
     "text": [
      "Epoch 001/100 |  Train loss:  0.17594 | Train f1 macro:  0.39797 |  Valid loss:  0.58879 | Valid f1 macro:  0.44239\n",
      "Validation loss decreased (inf --> 0.588789).  Saving model ...\n"
     ]
    },
    {
     "data": {
      "application/vnd.jupyter.widget-view+json": {
       "model_id": "",
       "version_major": 2,
       "version_minor": 0
      },
      "text/plain": [
       "  0%|          | 0/40 [00:00<?, ?it/s]"
      ]
     },
     "metadata": {},
     "output_type": "display_data"
    },
    {
     "data": {
      "application/vnd.jupyter.widget-view+json": {
       "model_id": "",
       "version_major": 2,
       "version_minor": 0
      },
      "text/plain": [
       "  0%|          | 0/40 [00:00<?, ?it/s]"
      ]
     },
     "metadata": {},
     "output_type": "display_data"
    },
    {
     "name": "stdout",
     "output_type": "stream",
     "text": [
      "Epoch 002/100 |  Train loss:  0.02850 | Train f1 macro:  0.81617 |  Valid loss:  0.14775 | Valid f1 macro:  0.54634\n",
      "Validation loss decreased (0.588789 --> 0.147749).  Saving model ...\n"
     ]
    },
    {
     "data": {
      "application/vnd.jupyter.widget-view+json": {
       "model_id": "",
       "version_major": 2,
       "version_minor": 0
      },
      "text/plain": [
       "  0%|          | 0/40 [00:00<?, ?it/s]"
      ]
     },
     "metadata": {},
     "output_type": "display_data"
    },
    {
     "data": {
      "application/vnd.jupyter.widget-view+json": {
       "model_id": "",
       "version_major": 2,
       "version_minor": 0
      },
      "text/plain": [
       "  0%|          | 0/40 [00:00<?, ?it/s]"
      ]
     },
     "metadata": {},
     "output_type": "display_data"
    },
    {
     "name": "stdout",
     "output_type": "stream",
     "text": [
      "Epoch 003/100 |  Train loss:  0.01755 | Train f1 macro:  0.88237 |  Valid loss:  0.09724 | Valid f1 macro:  0.50129\n",
      "Validation loss decreased (0.147749 --> 0.097235).  Saving model ...\n"
     ]
    },
    {
     "data": {
      "application/vnd.jupyter.widget-view+json": {
       "model_id": "",
       "version_major": 2,
       "version_minor": 0
      },
      "text/plain": [
       "  0%|          | 0/40 [00:00<?, ?it/s]"
      ]
     },
     "metadata": {},
     "output_type": "display_data"
    },
    {
     "data": {
      "application/vnd.jupyter.widget-view+json": {
       "model_id": "",
       "version_major": 2,
       "version_minor": 0
      },
      "text/plain": [
       "  0%|          | 0/40 [00:00<?, ?it/s]"
      ]
     },
     "metadata": {},
     "output_type": "display_data"
    },
    {
     "name": "stdout",
     "output_type": "stream",
     "text": [
      "Epoch 004/100 |  Train loss:  0.01398 | Train f1 macro:  0.88861 |  Valid loss:  0.07211 | Valid f1 macro:  0.58157\n",
      "Validation loss decreased (0.097235 --> 0.072108).  Saving model ...\n"
     ]
    },
    {
     "data": {
      "application/vnd.jupyter.widget-view+json": {
       "model_id": "",
       "version_major": 2,
       "version_minor": 0
      },
      "text/plain": [
       "  0%|          | 0/40 [00:00<?, ?it/s]"
      ]
     },
     "metadata": {},
     "output_type": "display_data"
    },
    {
     "data": {
      "application/vnd.jupyter.widget-view+json": {
       "model_id": "",
       "version_major": 2,
       "version_minor": 0
      },
      "text/plain": [
       "  0%|          | 0/40 [00:00<?, ?it/s]"
      ]
     },
     "metadata": {},
     "output_type": "display_data"
    },
    {
     "name": "stdout",
     "output_type": "stream",
     "text": [
      "Epoch 005/100 |  Train loss:  0.01175 | Train f1 macro:  0.91761 |  Valid loss:  0.04056 | Valid f1 macro:  0.76934\n",
      "Validation loss decreased (0.072108 --> 0.040560).  Saving model ...\n"
     ]
    },
    {
     "data": {
      "application/vnd.jupyter.widget-view+json": {
       "model_id": "",
       "version_major": 2,
       "version_minor": 0
      },
      "text/plain": [
       "  0%|          | 0/40 [00:00<?, ?it/s]"
      ]
     },
     "metadata": {},
     "output_type": "display_data"
    },
    {
     "data": {
      "application/vnd.jupyter.widget-view+json": {
       "model_id": "",
       "version_major": 2,
       "version_minor": 0
      },
      "text/plain": [
       "  0%|          | 0/40 [00:00<?, ?it/s]"
      ]
     },
     "metadata": {},
     "output_type": "display_data"
    },
    {
     "name": "stdout",
     "output_type": "stream",
     "text": [
      "Epoch 006/100 |  Train loss:  0.01028 | Train f1 macro:  0.92308 |  Valid loss:  0.03757 | Valid f1 macro:  0.80431\n",
      "Validation loss decreased (0.040560 --> 0.037570).  Saving model ...\n"
     ]
    },
    {
     "data": {
      "application/vnd.jupyter.widget-view+json": {
       "model_id": "",
       "version_major": 2,
       "version_minor": 0
      },
      "text/plain": [
       "  0%|          | 0/40 [00:00<?, ?it/s]"
      ]
     },
     "metadata": {},
     "output_type": "display_data"
    },
    {
     "data": {
      "application/vnd.jupyter.widget-view+json": {
       "model_id": "",
       "version_major": 2,
       "version_minor": 0
      },
      "text/plain": [
       "  0%|          | 0/40 [00:00<?, ?it/s]"
      ]
     },
     "metadata": {},
     "output_type": "display_data"
    },
    {
     "name": "stdout",
     "output_type": "stream",
     "text": [
      "Epoch 007/100 |  Train loss:  0.00998 | Train f1 macro:  0.92860 |  Valid loss:  0.02551 | Valid f1 macro:  0.86269\n",
      "Validation loss decreased (0.037570 --> 0.025511).  Saving model ...\n"
     ]
    },
    {
     "data": {
      "application/vnd.jupyter.widget-view+json": {
       "model_id": "",
       "version_major": 2,
       "version_minor": 0
      },
      "text/plain": [
       "  0%|          | 0/40 [00:00<?, ?it/s]"
      ]
     },
     "metadata": {},
     "output_type": "display_data"
    },
    {
     "data": {
      "application/vnd.jupyter.widget-view+json": {
       "model_id": "",
       "version_major": 2,
       "version_minor": 0
      },
      "text/plain": [
       "  0%|          | 0/40 [00:00<?, ?it/s]"
      ]
     },
     "metadata": {},
     "output_type": "display_data"
    },
    {
     "name": "stdout",
     "output_type": "stream",
     "text": [
      "Epoch 008/100 |  Train loss:  0.00936 | Train f1 macro:  0.93595 |  Valid loss:  0.02555 | Valid f1 macro:  0.87582\n",
      "EarlyStopping counter: 1 out of 10\n"
     ]
    },
    {
     "data": {
      "application/vnd.jupyter.widget-view+json": {
       "model_id": "",
       "version_major": 2,
       "version_minor": 0
      },
      "text/plain": [
       "  0%|          | 0/40 [00:00<?, ?it/s]"
      ]
     },
     "metadata": {},
     "output_type": "display_data"
    },
    {
     "data": {
      "application/vnd.jupyter.widget-view+json": {
       "model_id": "",
       "version_major": 2,
       "version_minor": 0
      },
      "text/plain": [
       "  0%|          | 0/40 [00:00<?, ?it/s]"
      ]
     },
     "metadata": {},
     "output_type": "display_data"
    },
    {
     "name": "stdout",
     "output_type": "stream",
     "text": [
      "Epoch 009/100 |  Train loss:  0.00900 | Train f1 macro:  0.93673 |  Valid loss:  0.02339 | Valid f1 macro:  0.88483\n",
      "Validation loss decreased (0.025511 --> 0.023387).  Saving model ...\n"
     ]
    },
    {
     "data": {
      "application/vnd.jupyter.widget-view+json": {
       "model_id": "",
       "version_major": 2,
       "version_minor": 0
      },
      "text/plain": [
       "  0%|          | 0/40 [00:00<?, ?it/s]"
      ]
     },
     "metadata": {},
     "output_type": "display_data"
    },
    {
     "data": {
      "application/vnd.jupyter.widget-view+json": {
       "model_id": "",
       "version_major": 2,
       "version_minor": 0
      },
      "text/plain": [
       "  0%|          | 0/40 [00:00<?, ?it/s]"
      ]
     },
     "metadata": {},
     "output_type": "display_data"
    },
    {
     "name": "stdout",
     "output_type": "stream",
     "text": [
      "Epoch 010/100 |  Train loss:  0.00879 | Train f1 macro:  0.93648 |  Valid loss:  0.01786 | Valid f1 macro:  0.90216\n",
      "Validation loss decreased (0.023387 --> 0.017861).  Saving model ...\n"
     ]
    },
    {
     "data": {
      "application/vnd.jupyter.widget-view+json": {
       "model_id": "",
       "version_major": 2,
       "version_minor": 0
      },
      "text/plain": [
       "  0%|          | 0/40 [00:00<?, ?it/s]"
      ]
     },
     "metadata": {},
     "output_type": "display_data"
    },
    {
     "data": {
      "application/vnd.jupyter.widget-view+json": {
       "model_id": "",
       "version_major": 2,
       "version_minor": 0
      },
      "text/plain": [
       "  0%|          | 0/40 [00:00<?, ?it/s]"
      ]
     },
     "metadata": {},
     "output_type": "display_data"
    },
    {
     "name": "stdout",
     "output_type": "stream",
     "text": [
      "Epoch 011/100 |  Train loss:  0.00919 | Train f1 macro:  0.92332 |  Valid loss:  0.01484 | Valid f1 macro:  0.91896\n",
      "Validation loss decreased (0.017861 --> 0.014839).  Saving model ...\n"
     ]
    },
    {
     "data": {
      "application/vnd.jupyter.widget-view+json": {
       "model_id": "",
       "version_major": 2,
       "version_minor": 0
      },
      "text/plain": [
       "  0%|          | 0/40 [00:00<?, ?it/s]"
      ]
     },
     "metadata": {},
     "output_type": "display_data"
    },
    {
     "data": {
      "application/vnd.jupyter.widget-view+json": {
       "model_id": "",
       "version_major": 2,
       "version_minor": 0
      },
      "text/plain": [
       "  0%|          | 0/40 [00:00<?, ?it/s]"
      ]
     },
     "metadata": {},
     "output_type": "display_data"
    },
    {
     "name": "stdout",
     "output_type": "stream",
     "text": [
      "Epoch 012/100 |  Train loss:  0.00878 | Train f1 macro:  0.94042 |  Valid loss:  0.01525 | Valid f1 macro:  0.91625\n",
      "EarlyStopping counter: 1 out of 10\n"
     ]
    },
    {
     "data": {
      "application/vnd.jupyter.widget-view+json": {
       "model_id": "",
       "version_major": 2,
       "version_minor": 0
      },
      "text/plain": [
       "  0%|          | 0/40 [00:00<?, ?it/s]"
      ]
     },
     "metadata": {},
     "output_type": "display_data"
    },
    {
     "data": {
      "application/vnd.jupyter.widget-view+json": {
       "model_id": "",
       "version_major": 2,
       "version_minor": 0
      },
      "text/plain": [
       "  0%|          | 0/40 [00:00<?, ?it/s]"
      ]
     },
     "metadata": {},
     "output_type": "display_data"
    },
    {
     "name": "stdout",
     "output_type": "stream",
     "text": [
      "Epoch 013/100 |  Train loss:  0.01052 | Train f1 macro:  0.91974 |  Valid loss:  0.03198 | Valid f1 macro:  0.82038\n",
      "EarlyStopping counter: 2 out of 10\n"
     ]
    },
    {
     "data": {
      "application/vnd.jupyter.widget-view+json": {
       "model_id": "",
       "version_major": 2,
       "version_minor": 0
      },
      "text/plain": [
       "  0%|          | 0/40 [00:00<?, ?it/s]"
      ]
     },
     "metadata": {},
     "output_type": "display_data"
    },
    {
     "data": {
      "application/vnd.jupyter.widget-view+json": {
       "model_id": "",
       "version_major": 2,
       "version_minor": 0
      },
      "text/plain": [
       "  0%|          | 0/40 [00:00<?, ?it/s]"
      ]
     },
     "metadata": {},
     "output_type": "display_data"
    },
    {
     "name": "stdout",
     "output_type": "stream",
     "text": [
      "Epoch 014/100 |  Train loss:  0.00687 | Train f1 macro:  0.94488 |  Valid loss:  0.02094 | Valid f1 macro:  0.88258\n",
      "EarlyStopping counter: 3 out of 10\n"
     ]
    },
    {
     "data": {
      "application/vnd.jupyter.widget-view+json": {
       "model_id": "",
       "version_major": 2,
       "version_minor": 0
      },
      "text/plain": [
       "  0%|          | 0/40 [00:00<?, ?it/s]"
      ]
     },
     "metadata": {},
     "output_type": "display_data"
    },
    {
     "data": {
      "application/vnd.jupyter.widget-view+json": {
       "model_id": "",
       "version_major": 2,
       "version_minor": 0
      },
      "text/plain": [
       "  0%|          | 0/40 [00:00<?, ?it/s]"
      ]
     },
     "metadata": {},
     "output_type": "display_data"
    },
    {
     "name": "stdout",
     "output_type": "stream",
     "text": [
      "Epoch 015/100 |  Train loss:  0.00600 | Train f1 macro:  0.94924 |  Valid loss:  0.02942 | Valid f1 macro:  0.85715\n",
      "EarlyStopping counter: 4 out of 10\n"
     ]
    },
    {
     "data": {
      "application/vnd.jupyter.widget-view+json": {
       "model_id": "",
       "version_major": 2,
       "version_minor": 0
      },
      "text/plain": [
       "  0%|          | 0/40 [00:00<?, ?it/s]"
      ]
     },
     "metadata": {},
     "output_type": "display_data"
    },
    {
     "data": {
      "application/vnd.jupyter.widget-view+json": {
       "model_id": "",
       "version_major": 2,
       "version_minor": 0
      },
      "text/plain": [
       "  0%|          | 0/40 [00:00<?, ?it/s]"
      ]
     },
     "metadata": {},
     "output_type": "display_data"
    },
    {
     "name": "stdout",
     "output_type": "stream",
     "text": [
      "Epoch 016/100 |  Train loss:  0.00604 | Train f1 macro:  0.95746 |  Valid loss:  0.01799 | Valid f1 macro:  0.91117\n",
      "EarlyStopping counter: 5 out of 10\n"
     ]
    },
    {
     "data": {
      "application/vnd.jupyter.widget-view+json": {
       "model_id": "",
       "version_major": 2,
       "version_minor": 0
      },
      "text/plain": [
       "  0%|          | 0/40 [00:00<?, ?it/s]"
      ]
     },
     "metadata": {},
     "output_type": "display_data"
    },
    {
     "data": {
      "application/vnd.jupyter.widget-view+json": {
       "model_id": "",
       "version_major": 2,
       "version_minor": 0
      },
      "text/plain": [
       "  0%|          | 0/40 [00:00<?, ?it/s]"
      ]
     },
     "metadata": {},
     "output_type": "display_data"
    },
    {
     "name": "stdout",
     "output_type": "stream",
     "text": [
      "Epoch 017/100 |  Train loss:  0.00551 | Train f1 macro:  0.95576 |  Valid loss:  0.02722 | Valid f1 macro:  0.86461\n",
      "EarlyStopping counter: 6 out of 10\n"
     ]
    },
    {
     "data": {
      "application/vnd.jupyter.widget-view+json": {
       "model_id": "",
       "version_major": 2,
       "version_minor": 0
      },
      "text/plain": [
       "  0%|          | 0/40 [00:00<?, ?it/s]"
      ]
     },
     "metadata": {},
     "output_type": "display_data"
    },
    {
     "data": {
      "application/vnd.jupyter.widget-view+json": {
       "model_id": "",
       "version_major": 2,
       "version_minor": 0
      },
      "text/plain": [
       "  0%|          | 0/40 [00:00<?, ?it/s]"
      ]
     },
     "metadata": {},
     "output_type": "display_data"
    },
    {
     "name": "stdout",
     "output_type": "stream",
     "text": [
      "Epoch 018/100 |  Train loss:  0.00559 | Train f1 macro:  0.95891 |  Valid loss:  0.02531 | Valid f1 macro:  0.87933\n",
      "EarlyStopping counter: 7 out of 10\n"
     ]
    },
    {
     "data": {
      "application/vnd.jupyter.widget-view+json": {
       "model_id": "",
       "version_major": 2,
       "version_minor": 0
      },
      "text/plain": [
       "  0%|          | 0/40 [00:00<?, ?it/s]"
      ]
     },
     "metadata": {},
     "output_type": "display_data"
    },
    {
     "data": {
      "application/vnd.jupyter.widget-view+json": {
       "model_id": "",
       "version_major": 2,
       "version_minor": 0
      },
      "text/plain": [
       "  0%|          | 0/40 [00:00<?, ?it/s]"
      ]
     },
     "metadata": {},
     "output_type": "display_data"
    },
    {
     "name": "stdout",
     "output_type": "stream",
     "text": [
      "Epoch 019/100 |  Train loss:  0.00470 | Train f1 macro:  0.96239 |  Valid loss:  0.02105 | Valid f1 macro:  0.89904\n",
      "EarlyStopping counter: 8 out of 10\n"
     ]
    },
    {
     "data": {
      "application/vnd.jupyter.widget-view+json": {
       "model_id": "",
       "version_major": 2,
       "version_minor": 0
      },
      "text/plain": [
       "  0%|          | 0/40 [00:00<?, ?it/s]"
      ]
     },
     "metadata": {},
     "output_type": "display_data"
    },
    {
     "data": {
      "application/vnd.jupyter.widget-view+json": {
       "model_id": "",
       "version_major": 2,
       "version_minor": 0
      },
      "text/plain": [
       "  0%|          | 0/40 [00:00<?, ?it/s]"
      ]
     },
     "metadata": {},
     "output_type": "display_data"
    },
    {
     "name": "stdout",
     "output_type": "stream",
     "text": [
      "Epoch 020/100 |  Train loss:  0.00527 | Train f1 macro:  0.96220 |  Valid loss:  0.01791 | Valid f1 macro:  0.91295\n",
      "EarlyStopping counter: 9 out of 10\n"
     ]
    },
    {
     "data": {
      "application/vnd.jupyter.widget-view+json": {
       "model_id": "",
       "version_major": 2,
       "version_minor": 0
      },
      "text/plain": [
       "  0%|          | 0/40 [00:00<?, ?it/s]"
      ]
     },
     "metadata": {},
     "output_type": "display_data"
    },
    {
     "data": {
      "application/vnd.jupyter.widget-view+json": {
       "model_id": "",
       "version_major": 2,
       "version_minor": 0
      },
      "text/plain": [
       "  0%|          | 0/40 [00:00<?, ?it/s]"
      ]
     },
     "metadata": {},
     "output_type": "display_data"
    },
    {
     "name": "stdout",
     "output_type": "stream",
     "text": [
      "Epoch 021/100 |  Train loss:  0.00491 | Train f1 macro:  0.95976 |  Valid loss:  0.01960 | Valid f1 macro:  0.90484\n",
      "EarlyStopping counter: 10 out of 10\n",
      "Early stopping\n",
      "CPU times: user 15h 13min 5s, sys: 14min 23s, total: 15h 27min 29s\n",
      "Wall time: 1h 57min 9s\n"
     ]
    }
   ],
   "source": [
    "%%time\n",
    "\n",
    "history = {\n",
    "    'valid_loss': [],\n",
    "    'train_loss': [],\n",
    "    'train_f1': [],\n",
    "    'valid_f1': [],\n",
    "}\n",
    "\n",
    "# initialize the early_stopping object\n",
    "checkpoint = f\"./models/{config['encoder_name']}_{config['trial']}.pt\"\n",
    "early_stopping = EarlyStopping(patience=config['patience'], verbose=True, path=checkpoint)\n",
    "\n",
    "for epoch in (pbar := trange(config['epochs'])):\n",
    "        \n",
    "    train_loss, train_f1 = train_fn(model, trainloader, optimizer, criterion, epoch)\n",
    "    valid_loss, valid_f1 = valid_fn(model, validloader, criterion)\n",
    "\n",
    "            \n",
    "    print(f'Epoch {epoch + 1:>03}/{config[\"epochs\"]} | ',\n",
    "          f'Train loss: {train_loss:8.5f} | Train f1 macro: {train_f1:8.5f} | ', \n",
    "          f'Valid loss: {valid_loss:8.5f} | Valid f1 macro: {valid_f1:8.5f}')\n",
    "    \n",
    "    # early_stopping needs the validation loss to check if it has decresed,\n",
    "    # and if it has, it will make a checkpoint of the current model\n",
    "    early_stopping(valid_loss, model)\n",
    "\n",
    "    history['train_loss'].append(train_loss)\n",
    "    history['valid_loss'].append(valid_loss)\n",
    "    history['train_f1'].append(train_f1.item())\n",
    "    history['valid_f1'].append(valid_f1.item())\n",
    "\n",
    "    if early_stopping.early_stop:\n",
    "        print(\"Early stopping\")\n",
    "        break\n"
   ]
  },
  {
   "cell_type": "markdown",
   "id": "c178c476-c419-4f9f-8525-59129d51e139",
   "metadata": {},
   "source": [
    "### Training and validation metrics evolution"
   ]
  },
  {
   "cell_type": "code",
   "execution_count": 21,
   "id": "60546c56-e08f-47a3-88a5-0fc2869e84ea",
   "metadata": {},
   "outputs": [
    {
     "data": {
      "image/png": "[encoded data removed]",
      "text/plain": [
       "<Figure size 1200x400 with 2 Axes>"
      ]
     },
     "metadata": {
      "image/png": {
       "height": 390,
       "width": 1191
      }
     },
     "output_type": "display_data"
    }
   ],
   "source": [
    "sns.set(context='paper', style='white', palette='colorblind')\n",
    "\n",
    "fig, ax = plt.subplots(1, 2, figsize=[12, 4], layout='constrained')\n",
    "\n",
    "sns.lineplot(history['train_loss'], label='training loss', ax=ax[0])\n",
    "sns.lineplot(history['valid_loss'], label='validation loss', ax=ax[0])\n",
    "ax[0].set(xlabel='epochs', ylabel='loss', title='Training and validation loss')\n",
    "sns.move_legend(ax[0], loc='best', frameon=False)\n",
    "\n",
    "sns.lineplot(history['train_f1'], label='training f1 score', ax=ax[1])\n",
    "sns.lineplot(history['valid_f1'], label='validation f1 score', ax=ax[1])\n",
    "ax[1].set(xlabel='epochs', ylabel='f1-score', title='Training and validation macro F1-score')\n",
    "sns.move_legend(ax[1], loc='best', frameon=False)\n",
    "\n",
    "plt.tight_layout();\n",
    "\n",
    "plt.savefig(f\"./assets/{config['encoder_name']}_{config['trial']}.png\", dpi=300)"
   ]
  },
  {
   "cell_type": "code",
   "execution_count": 22,
   "id": "7abacbde-bf17-42fc-bd6d-d4f38eb58119",
   "metadata": {},
   "outputs": [
    {
     "data": {
      "text/plain": [
       "<All keys matched successfully>"
      ]
     },
     "execution_count": 22,
     "metadata": {},
     "output_type": "execute_result"
    }
   ],
   "source": [
    "# Load the last checkpoint with the best model\n",
    "model.load_state_dict(torch.load(checkpoint))"
   ]
  },
  {
   "cell_type": "markdown",
   "id": "ad54f6bc-a529-4d27-92ef-06e52e76ab41",
   "metadata": {},
   "source": [
    "### Predictions"
   ]
  },
  {
   "cell_type": "code",
   "execution_count": 23,
   "id": "ba5b79d0-1809-41cf-8055-6191e388bcbf",
   "metadata": {},
   "outputs": [],
   "source": [
    "@torch.no_grad()\n",
    "def eval_fn(model, dataloader):\n",
    "    \n",
    "    model.eval() \n",
    "    \n",
    "    metric = MulticlassF1Score(num_classes=config['num_classes'], \n",
    "                               average='macro',\n",
    "                               ignore_index=config['ignore_index']).to(device=device)\n",
    "    \n",
    "    jaccard_metric = MulticlassJaccardIndex(num_classes=config['num_classes'],\n",
    "                                            average='macro',\n",
    "                                            ignore_index=config['ignore_index']).to(device=device)\n",
    "\n",
    "    y_true, y_pred = (torch.tensor([], device=device), torch.tensor([], device=device))\n",
    "    \n",
    "\n",
    "    running_loss = 0.0\n",
    "    for sample in tqdm(dataloader):\n",
    "        images = sample['image'].to(device)\n",
    "        labels = sample['mask'].squeeze().to(device) # , dtype=torch.long)\n",
    "        \n",
    "        with torch.cuda.amp.autocast():  # autocasting\n",
    "            outputs = model(images)\n",
    "\n",
    "        # Compute metrics\n",
    "        metric.update(outputs, labels)\n",
    "        jaccard_metric.update(outputs, labels)\n",
    "       \n",
    "        # Garbage collection\n",
    "        torch.cuda.empty_cache()\n",
    "        _ = gc.collect()\n",
    "        \n",
    "    f1_macro = metric.compute()\n",
    "    metric.reset()\n",
    "\n",
    "    IoU = jaccard_metric.compute()\n",
    "    jaccard_metric.reset()\n",
    "\n",
    "    print(f'Test f1-score macro: {f1_macro:.5f}')\n",
    "    print(f'Test IoU macro: {IoU:.5f}')\n"
   ]
  },
  {
   "cell_type": "code",
   "execution_count": 24,
   "id": "f4cdc99e-f080-40d7-8a0d-3eeae3d15de1",
   "metadata": {},
   "outputs": [
    {
     "data": {
      "application/vnd.jupyter.widget-view+json": {
       "model_id": "5072cb48667541719856c3a1a7900f62",
       "version_major": 2,
       "version_minor": 0
      },
      "text/plain": [
       "  0%|          | 0/20 [00:00<?, ?it/s]"
      ]
     },
     "metadata": {},
     "output_type": "display_data"
    },
    {
     "name": "stdout",
     "output_type": "stream",
     "text": [
      "Test f1-score macro: 0.89236\n",
      "Test IoU macro: 0.82216\n"
     ]
    }
   ],
   "source": [
    "eval_fn(model, testloader)"
   ]
  },
  {
   "cell_type": "code",
   "execution_count": null,
   "id": "278809a5-4105-4bdf-b461-0181d310baab",
   "metadata": {},
   "outputs": [],
   "source": []
  }
 ],
 "metadata": {
  "kernelspec": {
   "display_name": "Python 3 (ipykernel)",
   "language": "python",
   "name": "python3"
  },
  "language_info": {
   "codemirror_mode": {
    "name": "ipython",
    "version": 3
   },
   "file_extension": ".py",
   "mimetype": "text/x-python",
   "name": "python",
   "nbconvert_exporter": "python",
   "pygments_lexer": "ipython3",
   "version": "3.10.14"
  }
 },
 "nbformat": 4,
 "nbformat_minor": 5
}
