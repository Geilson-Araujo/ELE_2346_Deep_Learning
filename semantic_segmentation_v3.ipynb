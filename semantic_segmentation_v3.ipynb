{
 "cells": [
  {
   "cell_type": "code",
   "execution_count": 76,
   "id": "ef2aac20-66ae-4288-924a-82ab828e4e7d",
   "metadata": {},
   "outputs": [],
   "source": [
    "import os\n",
    "import gc\n",
    "import random\n",
    "\n",
    "import numpy as np\n",
    "\n",
    "import rasterio\n",
    "\n",
    "import matplotlib.pyplot as plt\n",
    "import seaborn as sns\n",
    "\n",
    "from pathlib import Path\n",
    "from typing import Callable, Dict, Optional, Tuple\n",
    "\n",
    "import torch\n",
    "import torch.nn as nn\n",
    "import torch.optim as optim\n",
    "from torch.utils.data import DataLoader, Dataset\n",
    "from torch import Tensor\n",
    "\n",
    "from torchgeo.datasets import (RasterDataset, \n",
    "                               stack_samples, \n",
    "                               splits, \n",
    "                               random_bbox_splitting)\n",
    "\n",
    "from torchgeo.samplers import RandomGeoSampler\n",
    "from torchgeo.trainers import SemanticSegmentationTask\n",
    "\n",
    "from torchinfo import summary\n",
    "from torchmetrics.classification import MulticlassF1Score\n",
    "\n",
    "from sklearn.model_selection import train_test_split\n",
    "from sklearn.metrics import accuracy_score, f1_score, jaccard_score\n",
    "\n",
    "from skimage.util import view_as_windows\n",
    "\n",
    "import segmentation_models_pytorch as smp\n",
    "from segmentation_models_pytorch.losses import SoftCrossEntropyLoss, FocalLoss\n",
    "\n",
    "from pprint import pprint\n",
    "\n",
    "from tqdm.auto import tqdm, trange\n",
    "\n",
    "import warnings\n",
    "warnings.simplefilter('ignore')\n",
    "\n",
    "%config InlineBackend.figure_format = 'retina'"
   ]
  },
  {
   "cell_type": "code",
   "execution_count": 2,
   "id": "1023e6bc-1ce9-493f-98e6-f099be98c4e2",
   "metadata": {},
   "outputs": [],
   "source": [
    "config = {\n",
    "    'seed': 2024,\n",
    "    'batch_size': 128,\n",
    "    'epochs':30,\n",
    "    'learning_rate': 1e-3,\n",
    "    'num_classes': 3,    \n",
    "    'ignore_index': 2,\n",
    "    'in_channels':4, \n",
    "    'model': 'DeepLabV3Plus',\n",
    "    'encoder_name': 'resnet50',\n",
    "    'size': (224, 224),\n",
    "    'length': 5_000,\n",
    "    'patience': 10,\n",
    "}"
   ]
  },
  {
   "cell_type": "code",
   "execution_count": 3,
   "id": "754a7927-e1ca-4fac-bac2-2912c3b60f17",
   "metadata": {},
   "outputs": [],
   "source": [
    "# https://pytorch.org/docs/stable/notes/randomness.html\n",
    "def seed_everything(seed: int) -> None:\n",
    "    random.seed(seed)\n",
    "    os.environ['PYTHONHASHSEED'] = str(seed)\n",
    "    os.environ['CUBLAS_WORKSPACE_CONFIG'] = ':4096:8'  # CUBLAS_WORKSPACE_CONFIG=:4096:8 or CUBLAS_WORKSPACE_CONFIG=:16:8\n",
    "    np.random.seed(seed)\n",
    "    torch.manual_seed(seed)\n",
    "    torch.cuda.manual_seed(seed)\n",
    "    # torch.use_deterministic_algorithms(mode=True)\n",
    "    torch.backends.cudnn.benchmark = True # False\n",
    "\n",
    "seed_everything(config['seed'])"
   ]
  },
  {
   "cell_type": "code",
   "execution_count": 4,
   "id": "76fc1050-a58e-4b97-90b5-01266bcc141c",
   "metadata": {},
   "outputs": [],
   "source": [
    "device = torch.device('cuda' if torch.cuda.is_available() else 'cpu')"
   ]
  },
  {
   "cell_type": "markdown",
   "id": "dd89d308-3805-44e9-9627-a5f73648b7fe",
   "metadata": {},
   "source": [
    "### Loading data"
   ]
  },
  {
   "cell_type": "code",
   "execution_count": 5,
   "id": "07043e75-4add-4546-81ae-4d2c698c33b0",
   "metadata": {},
   "outputs": [],
   "source": [
    "def load_tif_image(patch: str) -> Tuple[np.array, list]:\n",
    "    with rasterio.open(patch, mode='r') as src:\n",
    "        arr = src.read()\n",
    "        img = np.moveaxis(arr, 0, -1)\n",
    "        profile = src.profile\n",
    "\n",
    "    return img, profile"
   ]
  },
  {
   "cell_type": "code",
   "execution_count": 6,
   "id": "6f54a98a-a6d9-4ece-87e8-921d29eb4b45",
   "metadata": {},
   "outputs": [],
   "source": [
    "### ref: https://medium.com/@byeonghyeokyu/torchgeo-an-introduction-to-object-detection-example-b0fd43e89649\n",
    "def preprocess(sample):\n",
    "    sample['image'] = sample['image'].float() / 255.0\n",
    "    \n",
    "    return sample"
   ]
  },
  {
   "cell_type": "code",
   "execution_count": 7,
   "id": "d2158cef-fc2e-4839-b48d-5ecc93009e20",
   "metadata": {},
   "outputs": [],
   "source": [
    "class SARImages(RasterDataset):\n",
    "\n",
    "    filename_glob = '*.tif'\n",
    "    is_image = True\n",
    "    separate_files = False\n",
    "    all_bands = ['VV', 'VH']"
   ]
  },
  {
   "cell_type": "code",
   "execution_count": 8,
   "id": "c8682577-e263-4a84-b206-f429f97b09dd",
   "metadata": {},
   "outputs": [],
   "source": [
    "class SARLabels(RasterDataset):\n",
    "\n",
    "    filename_glob = '*.tif'\n",
    "    is_image = False\n",
    "    all_bands = [0]"
   ]
  },
  {
   "cell_type": "code",
   "execution_count": 9,
   "id": "7277b268-b367-45f2-b829-3bf4c8cf2562",
   "metadata": {},
   "outputs": [],
   "source": [
    "# Load SAR images\n",
    "img_2018 = SARImages('./data/18210.tif')\n",
    "img_2019 = SARImages('./data/19229.tif')\n",
    "img_2020 = SARImages('./data/20218.tif')\n",
    "\n",
    "# Load labels\n",
    "train_label = SARLabels('./data/label_2019.tif')\n",
    "test_label  = SARLabels('./data/label_2020.tif')"
   ]
  },
  {
   "cell_type": "code",
   "execution_count": 10,
   "id": "d5cbd972-610f-435a-821c-feb7774edf3a",
   "metadata": {},
   "outputs": [],
   "source": [
    "dataset  = img_2018 & img_2019 & train_label\n",
    "test_data = img_2019 & img_2020 & test_label"
   ]
  },
  {
   "cell_type": "markdown",
   "id": "a6cc4af6-6d46-46ae-9a7c-fd31a097cdbd",
   "metadata": {},
   "source": [
    "### Preparing data to feed the model"
   ]
  },
  {
   "cell_type": "code",
   "execution_count": 11,
   "id": "976a3e28-9999-4781-b623-338589a6115d",
   "metadata": {},
   "outputs": [],
   "source": [
    "# Split data into 70 % for training and 20 % for validation\n",
    "generator = torch.Generator().manual_seed(config['seed'])\n",
    "train_data, valid_data, _ = random_bbox_splitting(dataset, fractions=[0.7, 0.2, 0.1], generator=generator)"
   ]
  },
  {
   "cell_type": "code",
   "execution_count": 12,
   "id": "5f46aeeb-7780-4ea5-938c-cc8687bed288",
   "metadata": {},
   "outputs": [],
   "source": [
    "# Prepare dataloaders\n",
    "train_sampler = RandomGeoSampler(train_data, size=config['size'], length=config['length'])\n",
    "trainloader = DataLoader(train_data, batch_size=config['batch_size'], sampler=train_sampler, collate_fn=stack_samples)\n",
    "\n",
    "valid_sampler = RandomGeoSampler(valid_data, size=config['size'], length=config['length'])\n",
    "validloader = DataLoader(valid_data, batch_size=config['batch_size'], sampler=valid_sampler, collate_fn=stack_samples)\n",
    "\n",
    "test_sampler = GridGeoSampler(test_data, size=config['size'], stride=config['size'])\n",
    "testloader = DataLoader(test_data, batch_size=config['batch_size'], sampler=test_sampler, collate_fn=stack_samples)"
   ]
  },
  {
   "cell_type": "code",
   "execution_count": 13,
   "id": "06803b82-97cb-4b31-8423-ba4532a3e6c1",
   "metadata": {},
   "outputs": [
    {
     "data": {
      "text/plain": [
       "(torch.Size([128, 4, 224, 224]), torch.Size([128, 1, 224, 224]))"
      ]
     },
     "execution_count": 13,
     "metadata": {},
     "output_type": "execute_result"
    }
   ],
   "source": [
    "# Sanity check\n",
    "sample = next(iter(trainloader))\n",
    "\n",
    "sample['image'].shape, sample['mask'].shape"
   ]
  },
  {
   "cell_type": "markdown",
   "id": "52defd91-ac46-4299-bdd5-1f3e434ad996",
   "metadata": {},
   "source": [
    "### Model architecture"
   ]
  },
  {
   "cell_type": "code",
   "execution_count": 14,
   "id": "ca7bfbf4-2a0e-4f89-bd7b-9189912dd20e",
   "metadata": {},
   "outputs": [],
   "source": [
    "model = getattr(smp, config['model'])(\n",
    "    encoder_name=config['encoder_name'],    # Choose from various encoders (e.g., resnet18)\n",
    "    encoder_weights='imagenet',             # Load pretrained encoder weights (optional)\n",
    "    in_channels=config['in_channels'],\n",
    "    classes=config['num_classes'],          # Number of segmentation classes\n",
    ")"
   ]
  },
  {
   "cell_type": "code",
   "execution_count": 15,
   "id": "3b255f8b-e8e8-4839-bd5d-8e966cf6f5ed",
   "metadata": {},
   "outputs": [
    {
     "name": "stdout",
     "output_type": "stream",
     "text": [
      "==================================================================================================================================\n",
      "Layer (type:depth-idx)                                  Input Shape               Param #                   Trainable\n",
      "==================================================================================================================================\n",
      "DeepLabV3Plus                                           [128, 4, 224, 224]        --                        True\n",
      "├─ResNetEncoder: 1-1                                    [128, 4, 224, 224]        --                        True\n",
      "│    └─Conv2d: 2-1                                      [128, 4, 224, 224]        12,544                    True\n",
      "│    └─BatchNorm2d: 2-2                                 [128, 64, 112, 112]       128                       True\n",
      "│    └─ReLU: 2-3                                        [128, 64, 112, 112]       --                        --\n",
      "│    └─MaxPool2d: 2-4                                   [128, 64, 112, 112]       --                        --\n",
      "│    └─Sequential: 2-5                                  [128, 64, 56, 56]         --                        True\n",
      "│    │    └─Bottleneck: 3-1                             [128, 64, 56, 56]         75,008                    True\n",
      "│    │    └─Bottleneck: 3-2                             [128, 256, 56, 56]        70,400                    True\n",
      "│    │    └─Bottleneck: 3-3                             [128, 256, 56, 56]        70,400                    True\n",
      "│    └─Sequential: 2-6                                  [128, 256, 56, 56]        --                        True\n",
      "│    │    └─Bottleneck: 3-4                             [128, 256, 56, 56]        379,392                   True\n",
      "│    │    └─Bottleneck: 3-5                             [128, 512, 28, 28]        280,064                   True\n",
      "│    │    └─Bottleneck: 3-6                             [128, 512, 28, 28]        280,064                   True\n",
      "│    │    └─Bottleneck: 3-7                             [128, 512, 28, 28]        280,064                   True\n",
      "│    └─Sequential: 2-7                                  [128, 512, 28, 28]        --                        True\n",
      "│    │    └─Bottleneck: 3-8                             [128, 512, 28, 28]        1,512,448                 True\n",
      "│    │    └─Bottleneck: 3-9                             [128, 1024, 14, 14]       1,117,184                 True\n",
      "│    │    └─Bottleneck: 3-10                            [128, 1024, 14, 14]       1,117,184                 True\n",
      "│    │    └─Bottleneck: 3-11                            [128, 1024, 14, 14]       1,117,184                 True\n",
      "│    │    └─Bottleneck: 3-12                            [128, 1024, 14, 14]       1,117,184                 True\n",
      "│    │    └─Bottleneck: 3-13                            [128, 1024, 14, 14]       1,117,184                 True\n",
      "│    └─Sequential: 2-8                                  [128, 1024, 14, 14]       --                        True\n",
      "│    │    └─Bottleneck: 3-14                            [128, 1024, 14, 14]       6,039,552                 True\n",
      "│    │    └─Bottleneck: 3-15                            [128, 2048, 14, 14]       4,462,592                 True\n",
      "│    │    └─Bottleneck: 3-16                            [128, 2048, 14, 14]       4,462,592                 True\n",
      "├─DeepLabV3PlusDecoder: 1-2                             [128, 4, 224, 224]        --                        True\n",
      "│    └─Sequential: 2-9                                  [128, 2048, 14, 14]       --                        True\n",
      "│    │    └─ASPP: 3-17                                  [128, 2048, 14, 14]       3,007,488                 True\n",
      "│    │    └─SeparableConv2d: 3-18                       [128, 256, 14, 14]        67,840                    True\n",
      "│    │    └─BatchNorm2d: 3-19                           [128, 256, 14, 14]        512                       True\n",
      "│    │    └─ReLU: 3-20                                  [128, 256, 14, 14]        --                        --\n",
      "│    └─UpsamplingBilinear2d: 2-10                       [128, 256, 14, 14]        --                        --\n",
      "│    └─Sequential: 2-11                                 [128, 256, 56, 56]        --                        True\n",
      "│    │    └─Conv2d: 3-21                                [128, 256, 56, 56]        12,288                    True\n",
      "│    │    └─BatchNorm2d: 3-22                           [128, 48, 56, 56]         96                        True\n",
      "│    │    └─ReLU: 3-23                                  [128, 48, 56, 56]         --                        --\n",
      "│    └─Sequential: 2-12                                 [128, 304, 56, 56]        --                        True\n",
      "│    │    └─SeparableConv2d: 3-24                       [128, 304, 56, 56]        80,560                    True\n",
      "│    │    └─BatchNorm2d: 3-25                           [128, 256, 56, 56]        512                       True\n",
      "│    │    └─ReLU: 3-26                                  [128, 256, 56, 56]        --                        --\n",
      "├─SegmentationHead: 1-3                                 [128, 256, 56, 56]        --                        True\n",
      "│    └─Conv2d: 2-13                                     [128, 256, 56, 56]        771                       True\n",
      "│    └─UpsamplingBilinear2d: 2-14                       [128, 3, 56, 56]          --                        --\n",
      "│    └─Activation: 2-15                                 [128, 3, 224, 224]        --                        --\n",
      "│    │    └─Identity: 3-27                              [128, 3, 224, 224]        --                        --\n",
      "==================================================================================================================================\n",
      "Total params: 26,681,235\n",
      "Trainable params: 26,681,235\n",
      "Non-trainable params: 0\n",
      "Total mult-adds (G): 901.05\n",
      "==================================================================================================================================\n",
      "Input size (MB): 102.76\n",
      "Forward/backward pass size (MB): 30838.29\n",
      "Params size (MB): 106.72\n",
      "Estimated Total Size (MB): 31047.78\n",
      "==================================================================================================================================\n"
     ]
    }
   ],
   "source": [
    "print(summary(model, \n",
    "              (config['batch_size'], 4, 224, 224),\n",
    "              col_names=['input_size', 'num_params', 'trainable'],\n",
    "              device='cpu'))"
   ]
  },
  {
   "cell_type": "code",
   "execution_count": 16,
   "id": "f42c9a43-7b0f-4ec5-adf1-dc9531e8acc0",
   "metadata": {},
   "outputs": [],
   "source": [
    "def train_fn(model, dataloader, optimizer, criterion, epoch):\n",
    "\n",
    "    scaler = torch.cuda.amp.GradScaler()       # deal with out of memory    \n",
    "    \n",
    "    model.train()\n",
    "    \n",
    "    metric = MulticlassF1Score(num_classes=config['num_classes'], \n",
    "                               average='macro',\n",
    "                               ignore_index=config['ignore_index']).to(device=device)\n",
    "    \n",
    "    running_loss = 0.0  \n",
    "    for ii, sample in enumerate(tqdm(dataloader, leave=False)):\n",
    "        images = sample['image'].to(device)\n",
    "        labels = sample['mask'].squeeze().to(device)\n",
    "\n",
    "        \n",
    "        optimizer.zero_grad(set_to_none=True)  # set gradients to zero\n",
    "        \n",
    "        # Forward pass\n",
    "        with torch.cuda.amp.autocast():        # autocasting\n",
    "            outputs = model(images)\n",
    "            loss = criterion(outputs, labels)\n",
    "        \n",
    "        # Backward pass\n",
    "        scaler.scale(loss).backward() \n",
    "        scaler.step(optimizer)\n",
    "        scaler.update()\n",
    "\n",
    "        # Set up scheduler\n",
    "        # scheduler.step(epoch + ii / len(dataloader))\n",
    "        # current_lr = scheduler.get_last_lr()[0]\n",
    "        # wandb.log({f'current lerning rate - fold {fold}': current_lr})\n",
    "        \n",
    "        # Compute metrics\n",
    "        running_loss += loss.item()\n",
    "        metric.update(outputs, labels)\n",
    "        \n",
    "        # Garbage collection\n",
    "        torch.cuda.empty_cache()\n",
    "        _ = gc.collect()\n",
    "        \n",
    "    f1_macro = metric.compute()\n",
    "    metric.reset()\n",
    "    \n",
    "    return running_loss / len(dataloader), f1_macro"
   ]
  },
  {
   "cell_type": "code",
   "execution_count": 17,
   "id": "96b3acaf-70c4-4da8-94f5-4127f0b12b6c",
   "metadata": {},
   "outputs": [],
   "source": [
    "@torch.no_grad()\n",
    "def valid_fn(model, dataloader, criterion):\n",
    "    \n",
    "    model.eval() \n",
    "    \n",
    "    metric = MulticlassF1Score(num_classes=config['num_classes'], \n",
    "                               average='macro',\n",
    "                               ignore_index=config['ignore_index']).to(device=device)\n",
    "    \n",
    "    running_loss = 0.0\n",
    "\n",
    "    for sample in tqdm(dataloader, leave=False):\n",
    "        images = sample['image'].to(device)\n",
    "        labels = sample['mask'].squeeze().to(device)\n",
    "        \n",
    "        with torch.cuda.amp.autocast():  # autocasting\n",
    "            outputs = model(images)\n",
    "            loss = criterion(outputs, labels)\n",
    "\n",
    "        # Compute metrics\n",
    "        running_loss += loss.item()\n",
    "        metric.update(outputs, labels)\n",
    "        \n",
    "        # Garbage collection\n",
    "        torch.cuda.empty_cache()\n",
    "        _ = gc.collect()\n",
    "    \n",
    "    f1_macro = metric.compute()\n",
    "    metric.reset()\n",
    "\n",
    "    return running_loss / len(dataloader), f1_macro"
   ]
  },
  {
   "cell_type": "code",
   "execution_count": 18,
   "id": "16852fce-6949-4399-9811-40e39d53cc56",
   "metadata": {},
   "outputs": [],
   "source": [
    "class EarlyStopping:\n",
    "    \"\"\"Early stops the training if validation loss doesn't improve after a given patience.\"\"\"\n",
    "    def __init__(self, patience=7, verbose=False, delta=0, path='checkpoint.pt', trace_func=print):\n",
    "        \"\"\"\n",
    "        Args:\n",
    "            patience (int): How long to wait after last time validation loss improved.\n",
    "                            Default: 7\n",
    "            verbose (bool): If True, prints a message for each validation loss improvement.\n",
    "                            Default: False\n",
    "            delta (float): Minimum change in the monitored quantity to qualify as an improvement.\n",
    "                            Default: 0\n",
    "            path (str): Path for the checkpoint to be saved to.\n",
    "                            Default: 'checkpoint.pt'\n",
    "            trace_func (function): trace print function.\n",
    "                            Default: print\n",
    "        \"\"\"\n",
    "        self.patience = patience\n",
    "        self.verbose = verbose\n",
    "        self.counter = 0\n",
    "        self.best_score = None\n",
    "        self.early_stop = False\n",
    "        self.valid_loss_min = np.Inf\n",
    "        self.delta = delta\n",
    "        self.path = path\n",
    "        self.trace_func = trace_func\n",
    "    def __call__(self, valid_loss, model):\n",
    "\n",
    "        score = -valid_loss\n",
    "\n",
    "        if self.best_score is None:\n",
    "            self.best_score = score\n",
    "            self.save_checkpoint(valid_loss, model)\n",
    "        elif score < self.best_score + self.delta:\n",
    "            self.counter += 1\n",
    "            self.trace_func(f'EarlyStopping counter: {self.counter} out of {self.patience}')\n",
    "            if self.counter >= self.patience:\n",
    "                self.early_stop = True\n",
    "        else:\n",
    "            self.best_score = score\n",
    "            self.save_checkpoint(valid_loss, model)\n",
    "            self.counter = 0\n",
    "\n",
    "    def save_checkpoint(self, valid_loss, model):\n",
    "        '''Saves model when validation loss decrease.'''\n",
    "        if self.verbose:\n",
    "            self.trace_func(f'Validation loss decreased ({self.valid_loss_min:.6f} --> {valid_loss:.6f}).  Saving model ...')\n",
    "        torch.save(model.state_dict(), self.path)\n",
    "        self.valid_loss_min = valid_loss"
   ]
  },
  {
   "cell_type": "code",
   "execution_count": 19,
   "id": "53da8704-4546-4b22-8347-89ce3db22724",
   "metadata": {},
   "outputs": [],
   "source": [
    "model.to(device)\n",
    "\n",
    "criterion = nn.CrossEntropyLoss(ignore_index=config['ignore_index'])\n",
    "optimizer = optim.Adam(model.parameters(), lr=1e-3)"
   ]
  },
  {
   "cell_type": "markdown",
   "id": "818e963e-98ca-4a48-8de3-8a9f7a81e747",
   "metadata": {},
   "source": [
    "### Training and evaluanting the model"
   ]
  },
  {
   "cell_type": "code",
   "execution_count": 20,
   "id": "6453eb7d-1581-40cc-95e6-9a1ba1e25463",
   "metadata": {},
   "outputs": [
    {
     "data": {
      "application/vnd.jupyter.widget-view+json": {
       "model_id": "6b567baed5d04f28a1bdad56ab03a249",
       "version_major": 2,
       "version_minor": 0
      },
      "text/plain": [
       "  0%|          | 0/30 [00:00<?, ?it/s]"
      ]
     },
     "metadata": {},
     "output_type": "display_data"
    },
    {
     "data": {
      "application/vnd.jupyter.widget-view+json": {
       "model_id": "",
       "version_major": 2,
       "version_minor": 0
      },
      "text/plain": [
       "  0%|          | 0/40 [00:00<?, ?it/s]"
      ]
     },
     "metadata": {},
     "output_type": "display_data"
    },
    {
     "data": {
      "application/vnd.jupyter.widget-view+json": {
       "model_id": "",
       "version_major": 2,
       "version_minor": 0
      },
      "text/plain": [
       "  0%|          | 0/40 [00:00<?, ?it/s]"
      ]
     },
     "metadata": {},
     "output_type": "display_data"
    },
    {
     "name": "stdout",
     "output_type": "stream",
     "text": [
      "Epoch 001/30 |  Train loss:  0.14768 | Train f1 macro:  0.42192 |  Valid loss:  3.76017 | Valid f1 macro:  0.25979\n",
      "Validation loss decreased (inf --> 3.760170).  Saving model ...\n"
     ]
    },
    {
     "data": {
      "application/vnd.jupyter.widget-view+json": {
       "model_id": "",
       "version_major": 2,
       "version_minor": 0
      },
      "text/plain": [
       "  0%|          | 0/40 [00:00<?, ?it/s]"
      ]
     },
     "metadata": {},
     "output_type": "display_data"
    },
    {
     "data": {
      "application/vnd.jupyter.widget-view+json": {
       "model_id": "",
       "version_major": 2,
       "version_minor": 0
      },
      "text/plain": [
       "  0%|          | 0/40 [00:00<?, ?it/s]"
      ]
     },
     "metadata": {},
     "output_type": "display_data"
    },
    {
     "name": "stdout",
     "output_type": "stream",
     "text": [
      "Epoch 002/30 |  Train loss:  0.02307 | Train f1 macro:  0.86594 |  Valid loss:  0.02924 | Valid f1 macro:  0.81050\n",
      "Validation loss decreased (3.760170 --> 0.029242).  Saving model ...\n"
     ]
    },
    {
     "data": {
      "application/vnd.jupyter.widget-view+json": {
       "model_id": "",
       "version_major": 2,
       "version_minor": 0
      },
      "text/plain": [
       "  0%|          | 0/40 [00:00<?, ?it/s]"
      ]
     },
     "metadata": {},
     "output_type": "display_data"
    },
    {
     "data": {
      "application/vnd.jupyter.widget-view+json": {
       "model_id": "",
       "version_major": 2,
       "version_minor": 0
      },
      "text/plain": [
       "  0%|          | 0/40 [00:00<?, ?it/s]"
      ]
     },
     "metadata": {},
     "output_type": "display_data"
    },
    {
     "name": "stdout",
     "output_type": "stream",
     "text": [
      "Epoch 003/30 |  Train loss:  0.01457 | Train f1 macro:  0.89931 |  Valid loss:  0.02976 | Valid f1 macro:  0.83429\n",
      "EarlyStopping counter: 1 out of 10\n"
     ]
    },
    {
     "data": {
      "application/vnd.jupyter.widget-view+json": {
       "model_id": "",
       "version_major": 2,
       "version_minor": 0
      },
      "text/plain": [
       "  0%|          | 0/40 [00:00<?, ?it/s]"
      ]
     },
     "metadata": {},
     "output_type": "display_data"
    },
    {
     "data": {
      "application/vnd.jupyter.widget-view+json": {
       "model_id": "",
       "version_major": 2,
       "version_minor": 0
      },
      "text/plain": [
       "  0%|          | 0/40 [00:00<?, ?it/s]"
      ]
     },
     "metadata": {},
     "output_type": "display_data"
    },
    {
     "name": "stdout",
     "output_type": "stream",
     "text": [
      "Epoch 004/30 |  Train loss:  0.01046 | Train f1 macro:  0.92430 |  Valid loss:  0.03234 | Valid f1 macro:  0.82532\n",
      "EarlyStopping counter: 2 out of 10\n"
     ]
    },
    {
     "data": {
      "application/vnd.jupyter.widget-view+json": {
       "model_id": "",
       "version_major": 2,
       "version_minor": 0
      },
      "text/plain": [
       "  0%|          | 0/40 [00:00<?, ?it/s]"
      ]
     },
     "metadata": {},
     "output_type": "display_data"
    },
    {
     "data": {
      "application/vnd.jupyter.widget-view+json": {
       "model_id": "",
       "version_major": 2,
       "version_minor": 0
      },
      "text/plain": [
       "  0%|          | 0/40 [00:00<?, ?it/s]"
      ]
     },
     "metadata": {},
     "output_type": "display_data"
    },
    {
     "name": "stdout",
     "output_type": "stream",
     "text": [
      "Epoch 005/30 |  Train loss:  0.00855 | Train f1 macro:  0.94049 |  Valid loss:  0.01652 | Valid f1 macro:  0.91845\n",
      "Validation loss decreased (0.029242 --> 0.016521).  Saving model ...\n"
     ]
    },
    {
     "data": {
      "application/vnd.jupyter.widget-view+json": {
       "model_id": "",
       "version_major": 2,
       "version_minor": 0
      },
      "text/plain": [
       "  0%|          | 0/40 [00:00<?, ?it/s]"
      ]
     },
     "metadata": {},
     "output_type": "display_data"
    },
    {
     "data": {
      "application/vnd.jupyter.widget-view+json": {
       "model_id": "",
       "version_major": 2,
       "version_minor": 0
      },
      "text/plain": [
       "  0%|          | 0/40 [00:00<?, ?it/s]"
      ]
     },
     "metadata": {},
     "output_type": "display_data"
    },
    {
     "name": "stdout",
     "output_type": "stream",
     "text": [
      "Epoch 006/30 |  Train loss:  0.00940 | Train f1 macro:  0.93329 |  Valid loss:  0.01083 | Valid f1 macro:  0.94960\n",
      "Validation loss decreased (0.016521 --> 0.010825).  Saving model ...\n"
     ]
    },
    {
     "data": {
      "application/vnd.jupyter.widget-view+json": {
       "model_id": "",
       "version_major": 2,
       "version_minor": 0
      },
      "text/plain": [
       "  0%|          | 0/40 [00:00<?, ?it/s]"
      ]
     },
     "metadata": {},
     "output_type": "display_data"
    },
    {
     "data": {
      "application/vnd.jupyter.widget-view+json": {
       "model_id": "",
       "version_major": 2,
       "version_minor": 0
      },
      "text/plain": [
       "  0%|          | 0/40 [00:00<?, ?it/s]"
      ]
     },
     "metadata": {},
     "output_type": "display_data"
    },
    {
     "name": "stdout",
     "output_type": "stream",
     "text": [
      "Epoch 007/30 |  Train loss:  0.00788 | Train f1 macro:  0.94162 |  Valid loss:  0.02328 | Valid f1 macro:  0.88872\n",
      "EarlyStopping counter: 1 out of 10\n"
     ]
    },
    {
     "data": {
      "application/vnd.jupyter.widget-view+json": {
       "model_id": "",
       "version_major": 2,
       "version_minor": 0
      },
      "text/plain": [
       "  0%|          | 0/40 [00:00<?, ?it/s]"
      ]
     },
     "metadata": {},
     "output_type": "display_data"
    },
    {
     "data": {
      "application/vnd.jupyter.widget-view+json": {
       "model_id": "",
       "version_major": 2,
       "version_minor": 0
      },
      "text/plain": [
       "  0%|          | 0/40 [00:00<?, ?it/s]"
      ]
     },
     "metadata": {},
     "output_type": "display_data"
    },
    {
     "name": "stdout",
     "output_type": "stream",
     "text": [
      "Epoch 008/30 |  Train loss:  0.00678 | Train f1 macro:  0.95469 |  Valid loss:  0.02822 | Valid f1 macro:  0.87997\n",
      "EarlyStopping counter: 2 out of 10\n"
     ]
    },
    {
     "data": {
      "application/vnd.jupyter.widget-view+json": {
       "model_id": "",
       "version_major": 2,
       "version_minor": 0
      },
      "text/plain": [
       "  0%|          | 0/40 [00:00<?, ?it/s]"
      ]
     },
     "metadata": {},
     "output_type": "display_data"
    },
    {
     "data": {
      "application/vnd.jupyter.widget-view+json": {
       "model_id": "",
       "version_major": 2,
       "version_minor": 0
      },
      "text/plain": [
       "  0%|          | 0/40 [00:00<?, ?it/s]"
      ]
     },
     "metadata": {},
     "output_type": "display_data"
    },
    {
     "name": "stdout",
     "output_type": "stream",
     "text": [
      "Epoch 009/30 |  Train loss:  0.00574 | Train f1 macro:  0.96264 |  Valid loss:  0.12114 | Valid f1 macro:  0.70695\n",
      "EarlyStopping counter: 3 out of 10\n"
     ]
    },
    {
     "data": {
      "application/vnd.jupyter.widget-view+json": {
       "model_id": "",
       "version_major": 2,
       "version_minor": 0
      },
      "text/plain": [
       "  0%|          | 0/40 [00:00<?, ?it/s]"
      ]
     },
     "metadata": {},
     "output_type": "display_data"
    },
    {
     "data": {
      "application/vnd.jupyter.widget-view+json": {
       "model_id": "",
       "version_major": 2,
       "version_minor": 0
      },
      "text/plain": [
       "  0%|          | 0/40 [00:00<?, ?it/s]"
      ]
     },
     "metadata": {},
     "output_type": "display_data"
    },
    {
     "name": "stdout",
     "output_type": "stream",
     "text": [
      "Epoch 010/30 |  Train loss:  0.00818 | Train f1 macro:  0.93402 |  Valid loss:  0.02297 | Valid f1 macro:  0.86722\n",
      "EarlyStopping counter: 4 out of 10\n"
     ]
    },
    {
     "data": {
      "application/vnd.jupyter.widget-view+json": {
       "model_id": "",
       "version_major": 2,
       "version_minor": 0
      },
      "text/plain": [
       "  0%|          | 0/40 [00:00<?, ?it/s]"
      ]
     },
     "metadata": {},
     "output_type": "display_data"
    },
    {
     "data": {
      "application/vnd.jupyter.widget-view+json": {
       "model_id": "",
       "version_major": 2,
       "version_minor": 0
      },
      "text/plain": [
       "  0%|          | 0/40 [00:00<?, ?it/s]"
      ]
     },
     "metadata": {},
     "output_type": "display_data"
    },
    {
     "name": "stdout",
     "output_type": "stream",
     "text": [
      "Epoch 011/30 |  Train loss:  0.00802 | Train f1 macro:  0.94007 |  Valid loss:  0.01399 | Valid f1 macro:  0.93602\n",
      "EarlyStopping counter: 5 out of 10\n"
     ]
    },
    {
     "data": {
      "application/vnd.jupyter.widget-view+json": {
       "model_id": "",
       "version_major": 2,
       "version_minor": 0
      },
      "text/plain": [
       "  0%|          | 0/40 [00:00<?, ?it/s]"
      ]
     },
     "metadata": {},
     "output_type": "display_data"
    },
    {
     "data": {
      "application/vnd.jupyter.widget-view+json": {
       "model_id": "",
       "version_major": 2,
       "version_minor": 0
      },
      "text/plain": [
       "  0%|          | 0/40 [00:00<?, ?it/s]"
      ]
     },
     "metadata": {},
     "output_type": "display_data"
    },
    {
     "name": "stdout",
     "output_type": "stream",
     "text": [
      "Epoch 012/30 |  Train loss:  0.00860 | Train f1 macro:  0.95233 |  Valid loss:  0.02435 | Valid f1 macro:  0.89010\n",
      "EarlyStopping counter: 6 out of 10\n"
     ]
    },
    {
     "data": {
      "application/vnd.jupyter.widget-view+json": {
       "model_id": "",
       "version_major": 2,
       "version_minor": 0
      },
      "text/plain": [
       "  0%|          | 0/40 [00:00<?, ?it/s]"
      ]
     },
     "metadata": {},
     "output_type": "display_data"
    },
    {
     "data": {
      "application/vnd.jupyter.widget-view+json": {
       "model_id": "",
       "version_major": 2,
       "version_minor": 0
      },
      "text/plain": [
       "  0%|          | 0/40 [00:00<?, ?it/s]"
      ]
     },
     "metadata": {},
     "output_type": "display_data"
    },
    {
     "name": "stdout",
     "output_type": "stream",
     "text": [
      "Epoch 013/30 |  Train loss:  0.00750 | Train f1 macro:  0.94265 |  Valid loss:  0.04042 | Valid f1 macro:  0.75016\n",
      "EarlyStopping counter: 7 out of 10\n"
     ]
    },
    {
     "data": {
      "application/vnd.jupyter.widget-view+json": {
       "model_id": "",
       "version_major": 2,
       "version_minor": 0
      },
      "text/plain": [
       "  0%|          | 0/40 [00:00<?, ?it/s]"
      ]
     },
     "metadata": {},
     "output_type": "display_data"
    },
    {
     "data": {
      "application/vnd.jupyter.widget-view+json": {
       "model_id": "",
       "version_major": 2,
       "version_minor": 0
      },
      "text/plain": [
       "  0%|          | 0/40 [00:00<?, ?it/s]"
      ]
     },
     "metadata": {},
     "output_type": "display_data"
    },
    {
     "name": "stdout",
     "output_type": "stream",
     "text": [
      "Epoch 014/30 |  Train loss:  0.00759 | Train f1 macro:  0.94357 |  Valid loss:  0.04793 | Valid f1 macro:  0.75664\n",
      "EarlyStopping counter: 8 out of 10\n"
     ]
    },
    {
     "data": {
      "application/vnd.jupyter.widget-view+json": {
       "model_id": "",
       "version_major": 2,
       "version_minor": 0
      },
      "text/plain": [
       "  0%|          | 0/40 [00:00<?, ?it/s]"
      ]
     },
     "metadata": {},
     "output_type": "display_data"
    },
    {
     "data": {
      "application/vnd.jupyter.widget-view+json": {
       "model_id": "",
       "version_major": 2,
       "version_minor": 0
      },
      "text/plain": [
       "  0%|          | 0/40 [00:00<?, ?it/s]"
      ]
     },
     "metadata": {},
     "output_type": "display_data"
    },
    {
     "name": "stdout",
     "output_type": "stream",
     "text": [
      "Epoch 015/30 |  Train loss:  0.00616 | Train f1 macro:  0.94904 |  Valid loss:  0.10976 | Valid f1 macro:  0.68687\n",
      "EarlyStopping counter: 9 out of 10\n"
     ]
    },
    {
     "data": {
      "application/vnd.jupyter.widget-view+json": {
       "model_id": "",
       "version_major": 2,
       "version_minor": 0
      },
      "text/plain": [
       "  0%|          | 0/40 [00:00<?, ?it/s]"
      ]
     },
     "metadata": {},
     "output_type": "display_data"
    },
    {
     "data": {
      "application/vnd.jupyter.widget-view+json": {
       "model_id": "",
       "version_major": 2,
       "version_minor": 0
      },
      "text/plain": [
       "  0%|          | 0/40 [00:00<?, ?it/s]"
      ]
     },
     "metadata": {},
     "output_type": "display_data"
    },
    {
     "name": "stdout",
     "output_type": "stream",
     "text": [
      "Epoch 016/30 |  Train loss:  0.00563 | Train f1 macro:  0.95457 |  Valid loss:  0.03838 | Valid f1 macro:  0.79082\n",
      "EarlyStopping counter: 10 out of 10\n",
      "Early stopping\n",
      "CPU times: user 10h 44min 5s, sys: 9min 28s, total: 10h 53min 34s\n",
      "Wall time: 1h 28min 42s\n"
     ]
    }
   ],
   "source": [
    "%%time\n",
    "\n",
    "history = {\n",
    "    'valid_loss': [],\n",
    "    'train_loss': [],\n",
    "    'train_f1': [],\n",
    "    'valid_f1': [],\n",
    "}\n",
    "\n",
    "# initialize the early_stopping object\n",
    "early_stopping = EarlyStopping(patience=config['patience'], verbose=True)\n",
    "\n",
    "for epoch in (pbar := trange(config['epochs'])):\n",
    "        \n",
    "    train_loss, train_f1 = train_fn(model, trainloader, optimizer, criterion, epoch)\n",
    "    valid_loss, valid_f1 = valid_fn(model, validloader, criterion)\n",
    "\n",
    "            \n",
    "    print(f'Epoch {epoch + 1:>03}/{config[\"epochs\"]} | ',\n",
    "          f'Train loss: {train_loss:8.5f} | Train f1 macro: {train_f1:8.5f} | ', \n",
    "          f'Valid loss: {valid_loss:8.5f} | Valid f1 macro: {valid_f1:8.5f}')\n",
    "    \n",
    "    # early_stopping needs the validation loss to check if it has decresed,\n",
    "    # and if it has, it will make a checkpoint of the current model\n",
    "    early_stopping(valid_loss, model)\n",
    "\n",
    "    history['train_loss'].append(train_loss)\n",
    "    history['valid_loss'].append(valid_loss)\n",
    "    history['train_f1'].append(train_f1.item())\n",
    "    history['valid_f1'].append(valid_f1.item())\n",
    "\n",
    "    if early_stopping.early_stop:\n",
    "        print(\"Early stopping\")\n",
    "        break\n"
   ]
  },
  {
   "cell_type": "markdown",
   "id": "c178c476-c419-4f9f-8525-59129d51e139",
   "metadata": {},
   "source": [
    "### Training and validation metrics evolution"
   ]
  },
  {
   "cell_type": "code",
   "execution_count": 51,
   "id": "ca4ea07e-6a78-4ed9-bf70-d9b811799a6a",
   "metadata": {},
   "outputs": [],
   "source": [
    "history['train_f1'] = [value.detach().cpu().item() for value in  history['train_f1']]\n",
    "history['valid_f1'] = [value.detach().cpu().item() for value in  history['valid_f1']]"
   ]
  },
  {
   "cell_type": "code",
   "execution_count": 75,
   "id": "60546c56-e08f-47a3-88a5-0fc2869e84ea",
   "metadata": {},
   "outputs": [
    {
     "data": {
      "image/png": "[encoded data removed]",
      "text/plain": [
       "<Figure size 1200x400 with 2 Axes>"
      ]
     },
     "metadata": {
      "image/png": {
       "height": 411,
       "width": 1211
      }
     },
     "output_type": "display_data"
    }
   ],
   "source": [
    "sns.set(context='paper', style='white', palette='colorblind')\n",
    "\n",
    "fig, ax = plt.subplots(1, 2, figsize=[12, 4], layout='constrained')\n",
    "\n",
    "sns.lineplot(history['train_loss'], label='training loss', ax=ax[0])\n",
    "sns.lineplot(history['valid_loss'], label='validation loss', ax=ax[0])\n",
    "ax[0].set(xlabel='epochs', ylabel='loss', title='Training and validation loss')\n",
    "sns.move_legend(ax[0], loc='best', frameon=False)\n",
    "\n",
    "sns.lineplot(history['train_f1'], label='training f1 score', ax=ax[1])\n",
    "sns.lineplot(history['valid_f1'], label='validation f1 score', ax=ax[1])\n",
    "ax[1].set(xlabel='epochs', ylabel='f1-score', title='Training and validation macro F1-score')\n",
    "sns.move_legend(ax[1], loc='best', frameon=False);"
   ]
  },
  {
   "cell_type": "code",
   "execution_count": 21,
   "id": "7abacbde-bf17-42fc-bd6d-d4f38eb58119",
   "metadata": {},
   "outputs": [
    {
     "data": {
      "text/plain": [
       "<All keys matched successfully>"
      ]
     },
     "execution_count": 21,
     "metadata": {},
     "output_type": "execute_result"
    }
   ],
   "source": [
    "# load the last checkpoint with the best model\n",
    "model.load_state_dict(torch.load('checkpoint.pt'))"
   ]
  },
  {
   "cell_type": "markdown",
   "id": "ad54f6bc-a529-4d27-92ef-06e52e76ab41",
   "metadata": {},
   "source": [
    "### Predictions"
   ]
  },
  {
   "cell_type": "code",
   "execution_count": 22,
   "id": "ba5b79d0-1809-41cf-8055-6191e388bcbf",
   "metadata": {},
   "outputs": [],
   "source": [
    "@torch.no_grad()\n",
    "def get_predictions(model, dataloader):\n",
    "    \n",
    "    model.eval() \n",
    "    \n",
    "    metric = MulticlassF1Score(num_classes=config['num_classes'], \n",
    "                               average='macro',\n",
    "                               ignore_index=config['ignore_index']).to(device=device)\n",
    "    \n",
    "    cm_metric = MulticlassConfusionMatrix(num_classes=config['num_classes'],  \n",
    "                                          ignore_index=config['ignore_index'], \n",
    "                                          normalize='true').to(device=device)\n",
    "\n",
    "    jaccard_metric = MulticlassJaccardIndex(num_classes=config['num_classes'],\n",
    "                                            average='macro',\n",
    "                                            ignore_index=config['ignore_index']).to(device=device)\n",
    "\n",
    "    test_imgs, y_true, y_pred = (torch.tensor([], device=device), \n",
    "                                 torch.tensor([], device=device), \n",
    "                                 torch.tensor([], device=device))\n",
    "    \n",
    "    running_loss = 0.0\n",
    "\n",
    "    for sample in tqdm(dataloader):\n",
    "        images = sample['image'].to(device)\n",
    "        labels = sample['mask'].squeeze().to(device) # , dtype=torch.long)\n",
    "        \n",
    "        with torch.cuda.amp.autocast():  # autocasting\n",
    "            outputs = model(images)\n",
    "\n",
    "        # Compute metrics\n",
    "        metric.update(outputs, labels)\n",
    "        cm_metric.update(outputs, labels)\n",
    "        jaccard_metric.update(outputs, labels)\n",
    "       \n",
    "        # Predict labels\n",
    "        _, preds = torch.max(outputs, dim=1)\n",
    "        \n",
    "        # test_imgs = torch.cat([test_imgs, images], dim=0)\n",
    "        y_true = torch.cat([y_true, labels], dim=0)\n",
    "        y_pred = torch.cat([y_pred, preds], dim=0)\n",
    "        \n",
    "        # Garbage collection\n",
    "        torch.cuda.empty_cache()\n",
    "        _ = gc.collect()\n",
    "        \n",
    "    f1_macro = metric.compute()\n",
    "    metric.reset()\n",
    "\n",
    "    IoU = jaccard_metric.compute()\n",
    "    jaccard_metric.reset()\n",
    "\n",
    "    confusion_matrix = cm_metric.compute()\n",
    "    cm_metric.reset()\n",
    "\n",
    "    print(f'Test f1-score macro: {f1_macro:.5f}')\n",
    "    print(f'Test IoU macro: {IoU:.5f}')\n",
    "    \n",
    "    return (y_true.detach().cpu().numpy(), \n",
    "            y_pred.detach().cpu().numpy(), \n",
    "            confusion_matrix.detach().cpu().numpy())"
   ]
  },
  {
   "cell_type": "code",
   "execution_count": 23,
   "id": "f4cdc99e-f080-40d7-8a0d-3eeae3d15de1",
   "metadata": {},
   "outputs": [
    {
     "data": {
      "application/vnd.jupyter.widget-view+json": {
       "model_id": "",
       "version_major": 2,
       "version_minor": 0
      },
      "text/plain": [
       "  0%|          | 0/40 [00:00<?, ?it/s]"
      ]
     },
     "metadata": {},
     "output_type": "display_data"
    },
    {
     "name": "stdout",
     "output_type": "stream",
     "text": [
      "Test f1 macro: 0.89210\n",
      "CPU times: user 24min 9s, sys: 22.1 s, total: 24min 31s\n",
      "Wall time: 3min 21s\n"
     ]
    }
   ],
   "source": [
    "%%time\n",
    "\n",
    "y_true, y_pred = get_predictions(model, testloader)"
   ]
  }
 ],
 "metadata": {
  "kernelspec": {
   "display_name": "Python 3 (ipykernel)",
   "language": "python",
   "name": "python3"
  },
  "language_info": {
   "codemirror_mode": {
    "name": "ipython",
    "version": 3
   },
   "file_extension": ".py",
   "mimetype": "text/x-python",
   "name": "python",
   "nbconvert_exporter": "python",
   "pygments_lexer": "ipython3",
   "version": "3.10.14"
  }
 },
 "nbformat": 4,
 "nbformat_minor": 5
}
